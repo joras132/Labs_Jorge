{
 "cells": [
  {
   "cell_type": "code",
   "execution_count": 1,
   "id": "19465497",
   "metadata": {},
   "outputs": [],
   "source": [
    "import numpy as np\n",
    "import pandas as pd\n",
    "import matplotlib.pyplot as plt\n",
    "%matplotlib inline\n",
    "import seaborn as sns\n",
    "from sklearn.preprocessing import PowerTransformer\n",
    "from sklearn.compose import ColumnTransformer\n",
    "from sklearn.linear_model import LinearRegression\n",
    "from sklearn.model_selection import train_test_split\n",
    "\n",
    "import statsmodels.api as sm\n",
    "from sklearn.metrics import r2_score\n",
    "from sklearn.metrics import mean_squared_error as mse\n",
    "from sklearn.metrics import mean_absolute_error as mae\n",
    "pd.options.display.max_rows = 50\n",
    "## Install xlrd package to load Excel files\n",
    "# conda install openpyxl\n",
    "## conda install xlrd"
   ]
  },
  {
   "cell_type": "code",
   "execution_count": 2,
   "id": "4c281314",
   "metadata": {},
   "outputs": [],
   "source": [
    "RAND_STATE = 34 # for reproducible shuffling\n",
    "TT_RATIO = 0.3 # test/train"
   ]
  },
  {
   "cell_type": "code",
   "execution_count": 3,
   "id": "d4573dd8",
   "metadata": {},
   "outputs": [],
   "source": [
    "from scipy.stats import iqr\n",
    "def remove_outliers(df):\n",
    "    for c in df.columns:\n",
    "            pct_75 = np.percentile(df[c], 75)\n",
    "            pct_25 = np.percentile(df[c], 25)\n",
    "            upper_bound = pct_75 + 1.5*iqr(df[c])\n",
    "            lower_bound = pct_25 - 1.5*iqr(df[c])\n",
    "            condition = (df[c] < upper_bound) & (df[c] > lower_bound)\n",
    "            df[c] = df[c][condition]  # Filter out the outliers\n",
    "    return df"
   ]
  },
  {
   "cell_type": "code",
   "execution_count": 4,
   "id": "7e1e11e5",
   "metadata": {},
   "outputs": [],
   "source": [
    "hk_df= pd.read_csv('TA_restaurants_curated.csv')"
   ]
  },
  {
   "cell_type": "code",
   "execution_count": 32,
   "id": "89166e2b",
   "metadata": {
    "scrolled": false
   },
   "outputs": [
    {
     "data": {
      "text/html": [
       "<div>\n",
       "<style scoped>\n",
       "    .dataframe tbody tr th:only-of-type {\n",
       "        vertical-align: middle;\n",
       "    }\n",
       "\n",
       "    .dataframe tbody tr th {\n",
       "        vertical-align: top;\n",
       "    }\n",
       "\n",
       "    .dataframe thead th {\n",
       "        text-align: right;\n",
       "    }\n",
       "</style>\n",
       "<table border=\"1\" class=\"dataframe\">\n",
       "  <thead>\n",
       "    <tr style=\"text-align: right;\">\n",
       "      <th></th>\n",
       "      <th>Unnamed: 0</th>\n",
       "      <th>Name</th>\n",
       "      <th>City</th>\n",
       "      <th>Cuisine Style</th>\n",
       "      <th>Ranking</th>\n",
       "      <th>Rating</th>\n",
       "      <th>price_range</th>\n",
       "      <th>Number of Reviews</th>\n",
       "      <th>Reviews</th>\n",
       "      <th>URL_TA</th>\n",
       "      <th>ID_TA</th>\n",
       "    </tr>\n",
       "  </thead>\n",
       "  <tbody>\n",
       "    <tr>\n",
       "      <th>0</th>\n",
       "      <td>0</td>\n",
       "      <td>Martine of Martine's Table</td>\n",
       "      <td>Amsterdam</td>\n",
       "      <td>['French', 'Dutch', 'European']</td>\n",
       "      <td>1.0</td>\n",
       "      <td>5.0</td>\n",
       "      <td>$$ - $$$</td>\n",
       "      <td>136.0</td>\n",
       "      <td>[['Just like home', 'A Warm Welcome to Wintry ...</td>\n",
       "      <td>/Restaurant_Review-g188590-d11752080-Reviews-M...</td>\n",
       "      <td>d11752080</td>\n",
       "    </tr>\n",
       "    <tr>\n",
       "      <th>1</th>\n",
       "      <td>1</td>\n",
       "      <td>De Silveren Spiegel</td>\n",
       "      <td>Amsterdam</td>\n",
       "      <td>['Dutch', 'European', 'Vegetarian Friendly', '...</td>\n",
       "      <td>2.0</td>\n",
       "      <td>4.5</td>\n",
       "      <td>$$$$</td>\n",
       "      <td>812.0</td>\n",
       "      <td>[['Great food and staff', 'just perfect'], ['0...</td>\n",
       "      <td>/Restaurant_Review-g188590-d693419-Reviews-De_...</td>\n",
       "      <td>d693419</td>\n",
       "    </tr>\n",
       "    <tr>\n",
       "      <th>2</th>\n",
       "      <td>2</td>\n",
       "      <td>La Rive</td>\n",
       "      <td>Amsterdam</td>\n",
       "      <td>['Mediterranean', 'French', 'International', '...</td>\n",
       "      <td>3.0</td>\n",
       "      <td>4.5</td>\n",
       "      <td>$$$$</td>\n",
       "      <td>567.0</td>\n",
       "      <td>[['Satisfaction', 'Delicious old school restau...</td>\n",
       "      <td>/Restaurant_Review-g188590-d696959-Reviews-La_...</td>\n",
       "      <td>d696959</td>\n",
       "    </tr>\n",
       "    <tr>\n",
       "      <th>3</th>\n",
       "      <td>3</td>\n",
       "      <td>Vinkeles</td>\n",
       "      <td>Amsterdam</td>\n",
       "      <td>['French', 'European', 'International', 'Conte...</td>\n",
       "      <td>4.0</td>\n",
       "      <td>5.0</td>\n",
       "      <td>$$$$</td>\n",
       "      <td>564.0</td>\n",
       "      <td>[['True five star dinner', 'A superb evening o...</td>\n",
       "      <td>/Restaurant_Review-g188590-d1239229-Reviews-Vi...</td>\n",
       "      <td>d1239229</td>\n",
       "    </tr>\n",
       "    <tr>\n",
       "      <th>4</th>\n",
       "      <td>4</td>\n",
       "      <td>Librije's Zusje Amsterdam</td>\n",
       "      <td>Amsterdam</td>\n",
       "      <td>['Dutch', 'European', 'International', 'Vegeta...</td>\n",
       "      <td>5.0</td>\n",
       "      <td>4.5</td>\n",
       "      <td>$$$$</td>\n",
       "      <td>316.0</td>\n",
       "      <td>[['Best meal.... EVER', 'super food experience...</td>\n",
       "      <td>/Restaurant_Review-g188590-d6864170-Reviews-Li...</td>\n",
       "      <td>d6864170</td>\n",
       "    </tr>\n",
       "    <tr>\n",
       "      <th>...</th>\n",
       "      <td>...</td>\n",
       "      <td>...</td>\n",
       "      <td>...</td>\n",
       "      <td>...</td>\n",
       "      <td>...</td>\n",
       "      <td>...</td>\n",
       "      <td>...</td>\n",
       "      <td>...</td>\n",
       "      <td>...</td>\n",
       "      <td>...</td>\n",
       "      <td>...</td>\n",
       "    </tr>\n",
       "    <tr>\n",
       "      <th>125423</th>\n",
       "      <td>1563</td>\n",
       "      <td>Taj Palace</td>\n",
       "      <td>Zurich</td>\n",
       "      <td>['Indian', 'Asian', 'Vegetarian Friendly', 'Ha...</td>\n",
       "      <td>1569.0</td>\n",
       "      <td>2.5</td>\n",
       "      <td>$$ - $$$</td>\n",
       "      <td>53.0</td>\n",
       "      <td>[['Good food and nice experience', 'Disappoint...</td>\n",
       "      <td>/Restaurant_Review-g188113-d697907-Reviews-Taj...</td>\n",
       "      <td>d697907</td>\n",
       "    </tr>\n",
       "    <tr>\n",
       "      <th>125434</th>\n",
       "      <td>1574</td>\n",
       "      <td>Forum</td>\n",
       "      <td>Zurich</td>\n",
       "      <td>['Mediterranean', 'European', 'Central Europea...</td>\n",
       "      <td>1580.0</td>\n",
       "      <td>3.5</td>\n",
       "      <td>$$ - $$$</td>\n",
       "      <td>104.0</td>\n",
       "      <td>[['Good service', 'nice atmoshphere'], ['06/27...</td>\n",
       "      <td>/Restaurant_Review-g188113-d1187556-Reviews-Fo...</td>\n",
       "      <td>d1187556</td>\n",
       "    </tr>\n",
       "    <tr>\n",
       "      <th>125435</th>\n",
       "      <td>1575</td>\n",
       "      <td>PurPur</td>\n",
       "      <td>Zurich</td>\n",
       "      <td>['Bar']</td>\n",
       "      <td>1581.0</td>\n",
       "      <td>2.0</td>\n",
       "      <td>$$ - $$$</td>\n",
       "      <td>150.0</td>\n",
       "      <td>[['Worst New Year’s Eve experience', 'HORRIBLE...</td>\n",
       "      <td>/Restaurant_Review-g188113-d939089-Reviews-Pur...</td>\n",
       "      <td>d939089</td>\n",
       "    </tr>\n",
       "    <tr>\n",
       "      <th>125438</th>\n",
       "      <td>1578</td>\n",
       "      <td>Jade</td>\n",
       "      <td>Zurich</td>\n",
       "      <td>['Chinese', 'Swiss', 'Mediterranean', 'European']</td>\n",
       "      <td>1584.0</td>\n",
       "      <td>3.0</td>\n",
       "      <td>$$$$</td>\n",
       "      <td>21.0</td>\n",
       "      <td>[['Horrible!', 'It was really horrible, I woul...</td>\n",
       "      <td>/Restaurant_Review-g188113-d1551957-Reviews-Ja...</td>\n",
       "      <td>d1551957</td>\n",
       "    </tr>\n",
       "    <tr>\n",
       "      <th>125445</th>\n",
       "      <td>1585</td>\n",
       "      <td>Ristorante La Taverna</td>\n",
       "      <td>Zurich</td>\n",
       "      <td>['Italian', 'Vegetarian Friendly']</td>\n",
       "      <td>1591.0</td>\n",
       "      <td>4.5</td>\n",
       "      <td>$$ - $$$</td>\n",
       "      <td>16.0</td>\n",
       "      <td>[['Super local eatery', 'Small and charming pl...</td>\n",
       "      <td>/Restaurant_Review-g188113-d5768767-Reviews-Ri...</td>\n",
       "      <td>d5768767</td>\n",
       "    </tr>\n",
       "  </tbody>\n",
       "</table>\n",
       "<p>74225 rows × 11 columns</p>\n",
       "</div>"
      ],
      "text/plain": [
       "        Unnamed: 0                        Name       City  \\\n",
       "0                0  Martine of Martine's Table  Amsterdam   \n",
       "1                1         De Silveren Spiegel  Amsterdam   \n",
       "2                2                     La Rive  Amsterdam   \n",
       "3                3                    Vinkeles  Amsterdam   \n",
       "4                4   Librije's Zusje Amsterdam  Amsterdam   \n",
       "...            ...                         ...        ...   \n",
       "125423        1563                  Taj Palace     Zurich   \n",
       "125434        1574                       Forum     Zurich   \n",
       "125435        1575                      PurPur     Zurich   \n",
       "125438        1578                        Jade     Zurich   \n",
       "125445        1585       Ristorante La Taverna     Zurich   \n",
       "\n",
       "                                            Cuisine Style  Ranking  Rating  \\\n",
       "0                         ['French', 'Dutch', 'European']      1.0     5.0   \n",
       "1       ['Dutch', 'European', 'Vegetarian Friendly', '...      2.0     4.5   \n",
       "2       ['Mediterranean', 'French', 'International', '...      3.0     4.5   \n",
       "3       ['French', 'European', 'International', 'Conte...      4.0     5.0   \n",
       "4       ['Dutch', 'European', 'International', 'Vegeta...      5.0     4.5   \n",
       "...                                                   ...      ...     ...   \n",
       "125423  ['Indian', 'Asian', 'Vegetarian Friendly', 'Ha...   1569.0     2.5   \n",
       "125434  ['Mediterranean', 'European', 'Central Europea...   1580.0     3.5   \n",
       "125435                                            ['Bar']   1581.0     2.0   \n",
       "125438  ['Chinese', 'Swiss', 'Mediterranean', 'European']   1584.0     3.0   \n",
       "125445                 ['Italian', 'Vegetarian Friendly']   1591.0     4.5   \n",
       "\n",
       "       price_range  Number of Reviews  \\\n",
       "0         $$ - $$$              136.0   \n",
       "1             $$$$              812.0   \n",
       "2             $$$$              567.0   \n",
       "3             $$$$              564.0   \n",
       "4             $$$$              316.0   \n",
       "...            ...                ...   \n",
       "125423    $$ - $$$               53.0   \n",
       "125434    $$ - $$$              104.0   \n",
       "125435    $$ - $$$              150.0   \n",
       "125438        $$$$               21.0   \n",
       "125445    $$ - $$$               16.0   \n",
       "\n",
       "                                                  Reviews  \\\n",
       "0       [['Just like home', 'A Warm Welcome to Wintry ...   \n",
       "1       [['Great food and staff', 'just perfect'], ['0...   \n",
       "2       [['Satisfaction', 'Delicious old school restau...   \n",
       "3       [['True five star dinner', 'A superb evening o...   \n",
       "4       [['Best meal.... EVER', 'super food experience...   \n",
       "...                                                   ...   \n",
       "125423  [['Good food and nice experience', 'Disappoint...   \n",
       "125434  [['Good service', 'nice atmoshphere'], ['06/27...   \n",
       "125435  [['Worst New Year’s Eve experience', 'HORRIBLE...   \n",
       "125438  [['Horrible!', 'It was really horrible, I woul...   \n",
       "125445  [['Super local eatery', 'Small and charming pl...   \n",
       "\n",
       "                                                   URL_TA      ID_TA  \n",
       "0       /Restaurant_Review-g188590-d11752080-Reviews-M...  d11752080  \n",
       "1       /Restaurant_Review-g188590-d693419-Reviews-De_...    d693419  \n",
       "2       /Restaurant_Review-g188590-d696959-Reviews-La_...    d696959  \n",
       "3       /Restaurant_Review-g188590-d1239229-Reviews-Vi...   d1239229  \n",
       "4       /Restaurant_Review-g188590-d6864170-Reviews-Li...   d6864170  \n",
       "...                                                   ...        ...  \n",
       "125423  /Restaurant_Review-g188113-d697907-Reviews-Taj...    d697907  \n",
       "125434  /Restaurant_Review-g188113-d1187556-Reviews-Fo...   d1187556  \n",
       "125435  /Restaurant_Review-g188113-d939089-Reviews-Pur...    d939089  \n",
       "125438  /Restaurant_Review-g188113-d1551957-Reviews-Ja...   d1551957  \n",
       "125445  /Restaurant_Review-g188113-d5768767-Reviews-Ri...   d5768767  \n",
       "\n",
       "[74225 rows x 11 columns]"
      ]
     },
     "execution_count": 32,
     "metadata": {},
     "output_type": "execute_result"
    }
   ],
   "source": [
    "na_idcs = hk_df[hk_df.isna().any(axis=1)].index\n",
    "hk_df = pd.DataFrame(hk_df).drop(na_idcs)\n",
    "hk_df\n"
   ]
  },
  {
   "cell_type": "code",
   "execution_count": 37,
   "id": "8e2041d3",
   "metadata": {
    "scrolled": true
   },
   "outputs": [
    {
     "data": {
      "text/plain": [
       "array(['$$ - $$$', '$$$$', '$'], dtype=object)"
      ]
     },
     "execution_count": 37,
     "metadata": {},
     "output_type": "execute_result"
    }
   ],
   "source": [
    "hk_df.price_range.unique()\n"
   ]
  },
  {
   "cell_type": "code",
   "execution_count": 40,
   "id": "1a821e51",
   "metadata": {},
   "outputs": [],
   "source": [
    "from sklearn import preprocessing\n"
   ]
  },
  {
   "cell_type": "code",
   "execution_count": 45,
   "id": "cc4c8e66",
   "metadata": {},
   "outputs": [
    {
     "data": {
      "text/plain": [
       "LabelEncoder()"
      ]
     },
     "execution_count": 45,
     "metadata": {},
     "output_type": "execute_result"
    }
   ],
   "source": [
    "le = preprocessing.LabelEncoder()\n",
    "le.fit(['$','$$ - $$$', '$$$$'])\n"
   ]
  },
  {
   "cell_type": "code",
   "execution_count": 46,
   "id": "de5e146c",
   "metadata": {},
   "outputs": [
    {
     "data": {
      "text/plain": [
       "array([1, 2, 2, ..., 1, 2, 1])"
      ]
     },
     "execution_count": 46,
     "metadata": {},
     "output_type": "execute_result"
    }
   ],
   "source": [
    "le.transform(hk_df.price_range)"
   ]
  },
  {
   "cell_type": "code",
   "execution_count": null,
   "id": "5d1d12b4",
   "metadata": {},
   "outputs": [],
   "source": [
    ">>> list(le.classes_)\n",
    "['$$ - $$$', '$$$$', '$']\n",
    ">>> le.transform(['$$ - $$$', '$$$$', '$'])\n",
    "array([1, 2, 3, 0]...)\n",
    ">>> list(le.inverse_transform([1, 2, 3, 0]))\n",
    "['$$ - $$$', '$$$$', '$']"
   ]
  },
  {
   "cell_type": "code",
   "execution_count": 47,
   "id": "7fba797e",
   "metadata": {},
   "outputs": [
    {
     "data": {
      "text/plain": [
       "0         $$ - $$$\n",
       "1             $$$$\n",
       "2             $$$$\n",
       "3             $$$$\n",
       "4             $$$$\n",
       "            ...   \n",
       "125423    $$ - $$$\n",
       "125434    $$ - $$$\n",
       "125435    $$ - $$$\n",
       "125438        $$$$\n",
       "125445    $$ - $$$\n",
       "Name: price_range, Length: 74225, dtype: object"
      ]
     },
     "execution_count": 47,
     "metadata": {},
     "output_type": "execute_result"
    }
   ],
   "source": [
    "le.transform(hk_df.price_range)"
   ]
  },
  {
   "cell_type": "code",
   "execution_count": 50,
   "id": "a1633503",
   "metadata": {},
   "outputs": [],
   "source": [
    "hk_df['PR']=le.transform(hk_df.price_range)\n"
   ]
  },
  {
   "cell_type": "code",
   "execution_count": 53,
   "id": "1ff08d2d",
   "metadata": {},
   "outputs": [
    {
     "data": {
      "text/html": [
       "<div>\n",
       "<style scoped>\n",
       "    .dataframe tbody tr th:only-of-type {\n",
       "        vertical-align: middle;\n",
       "    }\n",
       "\n",
       "    .dataframe tbody tr th {\n",
       "        vertical-align: top;\n",
       "    }\n",
       "\n",
       "    .dataframe thead th {\n",
       "        text-align: right;\n",
       "    }\n",
       "</style>\n",
       "<table border=\"1\" class=\"dataframe\">\n",
       "  <thead>\n",
       "    <tr style=\"text-align: right;\">\n",
       "      <th></th>\n",
       "      <th>Unnamed: 0</th>\n",
       "      <th>Name</th>\n",
       "      <th>City</th>\n",
       "      <th>Cuisine Style</th>\n",
       "      <th>Ranking</th>\n",
       "      <th>Rating</th>\n",
       "      <th>price_range</th>\n",
       "      <th>Number of Reviews</th>\n",
       "      <th>Reviews</th>\n",
       "      <th>URL_TA</th>\n",
       "      <th>ID_TA</th>\n",
       "      <th>PR</th>\n",
       "    </tr>\n",
       "  </thead>\n",
       "  <tbody>\n",
       "    <tr>\n",
       "      <th>0</th>\n",
       "      <td>0</td>\n",
       "      <td>Martine of Martine's Table</td>\n",
       "      <td>Amsterdam</td>\n",
       "      <td>['French', 'Dutch', 'European']</td>\n",
       "      <td>1.0</td>\n",
       "      <td>5.0</td>\n",
       "      <td>$$ - $$$</td>\n",
       "      <td>136.0</td>\n",
       "      <td>[['Just like home', 'A Warm Welcome to Wintry ...</td>\n",
       "      <td>/Restaurant_Review-g188590-d11752080-Reviews-M...</td>\n",
       "      <td>d11752080</td>\n",
       "      <td>1</td>\n",
       "    </tr>\n",
       "    <tr>\n",
       "      <th>1</th>\n",
       "      <td>1</td>\n",
       "      <td>De Silveren Spiegel</td>\n",
       "      <td>Amsterdam</td>\n",
       "      <td>['Dutch', 'European', 'Vegetarian Friendly', '...</td>\n",
       "      <td>2.0</td>\n",
       "      <td>4.5</td>\n",
       "      <td>$$$$</td>\n",
       "      <td>812.0</td>\n",
       "      <td>[['Great food and staff', 'just perfect'], ['0...</td>\n",
       "      <td>/Restaurant_Review-g188590-d693419-Reviews-De_...</td>\n",
       "      <td>d693419</td>\n",
       "      <td>2</td>\n",
       "    </tr>\n",
       "    <tr>\n",
       "      <th>2</th>\n",
       "      <td>2</td>\n",
       "      <td>La Rive</td>\n",
       "      <td>Amsterdam</td>\n",
       "      <td>['Mediterranean', 'French', 'International', '...</td>\n",
       "      <td>3.0</td>\n",
       "      <td>4.5</td>\n",
       "      <td>$$$$</td>\n",
       "      <td>567.0</td>\n",
       "      <td>[['Satisfaction', 'Delicious old school restau...</td>\n",
       "      <td>/Restaurant_Review-g188590-d696959-Reviews-La_...</td>\n",
       "      <td>d696959</td>\n",
       "      <td>2</td>\n",
       "    </tr>\n",
       "    <tr>\n",
       "      <th>3</th>\n",
       "      <td>3</td>\n",
       "      <td>Vinkeles</td>\n",
       "      <td>Amsterdam</td>\n",
       "      <td>['French', 'European', 'International', 'Conte...</td>\n",
       "      <td>4.0</td>\n",
       "      <td>5.0</td>\n",
       "      <td>$$$$</td>\n",
       "      <td>564.0</td>\n",
       "      <td>[['True five star dinner', 'A superb evening o...</td>\n",
       "      <td>/Restaurant_Review-g188590-d1239229-Reviews-Vi...</td>\n",
       "      <td>d1239229</td>\n",
       "      <td>2</td>\n",
       "    </tr>\n",
       "    <tr>\n",
       "      <th>4</th>\n",
       "      <td>4</td>\n",
       "      <td>Librije's Zusje Amsterdam</td>\n",
       "      <td>Amsterdam</td>\n",
       "      <td>['Dutch', 'European', 'International', 'Vegeta...</td>\n",
       "      <td>5.0</td>\n",
       "      <td>4.5</td>\n",
       "      <td>$$$$</td>\n",
       "      <td>316.0</td>\n",
       "      <td>[['Best meal.... EVER', 'super food experience...</td>\n",
       "      <td>/Restaurant_Review-g188590-d6864170-Reviews-Li...</td>\n",
       "      <td>d6864170</td>\n",
       "      <td>2</td>\n",
       "    </tr>\n",
       "    <tr>\n",
       "      <th>...</th>\n",
       "      <td>...</td>\n",
       "      <td>...</td>\n",
       "      <td>...</td>\n",
       "      <td>...</td>\n",
       "      <td>...</td>\n",
       "      <td>...</td>\n",
       "      <td>...</td>\n",
       "      <td>...</td>\n",
       "      <td>...</td>\n",
       "      <td>...</td>\n",
       "      <td>...</td>\n",
       "      <td>...</td>\n",
       "    </tr>\n",
       "    <tr>\n",
       "      <th>125423</th>\n",
       "      <td>1563</td>\n",
       "      <td>Taj Palace</td>\n",
       "      <td>Zurich</td>\n",
       "      <td>['Indian', 'Asian', 'Vegetarian Friendly', 'Ha...</td>\n",
       "      <td>1569.0</td>\n",
       "      <td>2.5</td>\n",
       "      <td>$$ - $$$</td>\n",
       "      <td>53.0</td>\n",
       "      <td>[['Good food and nice experience', 'Disappoint...</td>\n",
       "      <td>/Restaurant_Review-g188113-d697907-Reviews-Taj...</td>\n",
       "      <td>d697907</td>\n",
       "      <td>1</td>\n",
       "    </tr>\n",
       "    <tr>\n",
       "      <th>125434</th>\n",
       "      <td>1574</td>\n",
       "      <td>Forum</td>\n",
       "      <td>Zurich</td>\n",
       "      <td>['Mediterranean', 'European', 'Central Europea...</td>\n",
       "      <td>1580.0</td>\n",
       "      <td>3.5</td>\n",
       "      <td>$$ - $$$</td>\n",
       "      <td>104.0</td>\n",
       "      <td>[['Good service', 'nice atmoshphere'], ['06/27...</td>\n",
       "      <td>/Restaurant_Review-g188113-d1187556-Reviews-Fo...</td>\n",
       "      <td>d1187556</td>\n",
       "      <td>1</td>\n",
       "    </tr>\n",
       "    <tr>\n",
       "      <th>125435</th>\n",
       "      <td>1575</td>\n",
       "      <td>PurPur</td>\n",
       "      <td>Zurich</td>\n",
       "      <td>['Bar']</td>\n",
       "      <td>1581.0</td>\n",
       "      <td>2.0</td>\n",
       "      <td>$$ - $$$</td>\n",
       "      <td>150.0</td>\n",
       "      <td>[['Worst New Year’s Eve experience', 'HORRIBLE...</td>\n",
       "      <td>/Restaurant_Review-g188113-d939089-Reviews-Pur...</td>\n",
       "      <td>d939089</td>\n",
       "      <td>1</td>\n",
       "    </tr>\n",
       "    <tr>\n",
       "      <th>125438</th>\n",
       "      <td>1578</td>\n",
       "      <td>Jade</td>\n",
       "      <td>Zurich</td>\n",
       "      <td>['Chinese', 'Swiss', 'Mediterranean', 'European']</td>\n",
       "      <td>1584.0</td>\n",
       "      <td>3.0</td>\n",
       "      <td>$$$$</td>\n",
       "      <td>21.0</td>\n",
       "      <td>[['Horrible!', 'It was really horrible, I woul...</td>\n",
       "      <td>/Restaurant_Review-g188113-d1551957-Reviews-Ja...</td>\n",
       "      <td>d1551957</td>\n",
       "      <td>2</td>\n",
       "    </tr>\n",
       "    <tr>\n",
       "      <th>125445</th>\n",
       "      <td>1585</td>\n",
       "      <td>Ristorante La Taverna</td>\n",
       "      <td>Zurich</td>\n",
       "      <td>['Italian', 'Vegetarian Friendly']</td>\n",
       "      <td>1591.0</td>\n",
       "      <td>4.5</td>\n",
       "      <td>$$ - $$$</td>\n",
       "      <td>16.0</td>\n",
       "      <td>[['Super local eatery', 'Small and charming pl...</td>\n",
       "      <td>/Restaurant_Review-g188113-d5768767-Reviews-Ri...</td>\n",
       "      <td>d5768767</td>\n",
       "      <td>1</td>\n",
       "    </tr>\n",
       "  </tbody>\n",
       "</table>\n",
       "<p>74225 rows × 12 columns</p>\n",
       "</div>"
      ],
      "text/plain": [
       "        Unnamed: 0                        Name       City  \\\n",
       "0                0  Martine of Martine's Table  Amsterdam   \n",
       "1                1         De Silveren Spiegel  Amsterdam   \n",
       "2                2                     La Rive  Amsterdam   \n",
       "3                3                    Vinkeles  Amsterdam   \n",
       "4                4   Librije's Zusje Amsterdam  Amsterdam   \n",
       "...            ...                         ...        ...   \n",
       "125423        1563                  Taj Palace     Zurich   \n",
       "125434        1574                       Forum     Zurich   \n",
       "125435        1575                      PurPur     Zurich   \n",
       "125438        1578                        Jade     Zurich   \n",
       "125445        1585       Ristorante La Taverna     Zurich   \n",
       "\n",
       "                                            Cuisine Style  Ranking  Rating  \\\n",
       "0                         ['French', 'Dutch', 'European']      1.0     5.0   \n",
       "1       ['Dutch', 'European', 'Vegetarian Friendly', '...      2.0     4.5   \n",
       "2       ['Mediterranean', 'French', 'International', '...      3.0     4.5   \n",
       "3       ['French', 'European', 'International', 'Conte...      4.0     5.0   \n",
       "4       ['Dutch', 'European', 'International', 'Vegeta...      5.0     4.5   \n",
       "...                                                   ...      ...     ...   \n",
       "125423  ['Indian', 'Asian', 'Vegetarian Friendly', 'Ha...   1569.0     2.5   \n",
       "125434  ['Mediterranean', 'European', 'Central Europea...   1580.0     3.5   \n",
       "125435                                            ['Bar']   1581.0     2.0   \n",
       "125438  ['Chinese', 'Swiss', 'Mediterranean', 'European']   1584.0     3.0   \n",
       "125445                 ['Italian', 'Vegetarian Friendly']   1591.0     4.5   \n",
       "\n",
       "       price_range  Number of Reviews  \\\n",
       "0         $$ - $$$              136.0   \n",
       "1             $$$$              812.0   \n",
       "2             $$$$              567.0   \n",
       "3             $$$$              564.0   \n",
       "4             $$$$              316.0   \n",
       "...            ...                ...   \n",
       "125423    $$ - $$$               53.0   \n",
       "125434    $$ - $$$              104.0   \n",
       "125435    $$ - $$$              150.0   \n",
       "125438        $$$$               21.0   \n",
       "125445    $$ - $$$               16.0   \n",
       "\n",
       "                                                  Reviews  \\\n",
       "0       [['Just like home', 'A Warm Welcome to Wintry ...   \n",
       "1       [['Great food and staff', 'just perfect'], ['0...   \n",
       "2       [['Satisfaction', 'Delicious old school restau...   \n",
       "3       [['True five star dinner', 'A superb evening o...   \n",
       "4       [['Best meal.... EVER', 'super food experience...   \n",
       "...                                                   ...   \n",
       "125423  [['Good food and nice experience', 'Disappoint...   \n",
       "125434  [['Good service', 'nice atmoshphere'], ['06/27...   \n",
       "125435  [['Worst New Year’s Eve experience', 'HORRIBLE...   \n",
       "125438  [['Horrible!', 'It was really horrible, I woul...   \n",
       "125445  [['Super local eatery', 'Small and charming pl...   \n",
       "\n",
       "                                                   URL_TA      ID_TA  PR  \n",
       "0       /Restaurant_Review-g188590-d11752080-Reviews-M...  d11752080   1  \n",
       "1       /Restaurant_Review-g188590-d693419-Reviews-De_...    d693419   2  \n",
       "2       /Restaurant_Review-g188590-d696959-Reviews-La_...    d696959   2  \n",
       "3       /Restaurant_Review-g188590-d1239229-Reviews-Vi...   d1239229   2  \n",
       "4       /Restaurant_Review-g188590-d6864170-Reviews-Li...   d6864170   2  \n",
       "...                                                   ...        ...  ..  \n",
       "125423  /Restaurant_Review-g188113-d697907-Reviews-Taj...    d697907   1  \n",
       "125434  /Restaurant_Review-g188113-d1187556-Reviews-Fo...   d1187556   1  \n",
       "125435  /Restaurant_Review-g188113-d939089-Reviews-Pur...    d939089   1  \n",
       "125438  /Restaurant_Review-g188113-d1551957-Reviews-Ja...   d1551957   2  \n",
       "125445  /Restaurant_Review-g188113-d5768767-Reviews-Ri...   d5768767   1  \n",
       "\n",
       "[74225 rows x 12 columns]"
      ]
     },
     "execution_count": 53,
     "metadata": {},
     "output_type": "execute_result"
    }
   ],
   "source": [
    "hk_df"
   ]
  },
  {
   "cell_type": "code",
   "execution_count": 54,
   "id": "73be9bc9",
   "metadata": {},
   "outputs": [
    {
     "name": "stderr",
     "output_type": "stream",
     "text": [
      "C:\\Users\\aguil\\anaconda3\\lib\\site-packages\\seaborn\\distributions.py:2619: FutureWarning: `distplot` is a deprecated function and will be removed in a future version. Please adapt your code to use either `displot` (a figure-level function with similar flexibility) or `histplot` (an axes-level function for histograms).\n",
      "  warnings.warn(msg, FutureWarning)\n"
     ]
    },
    {
     "data": {
      "text/plain": [
       "<AxesSubplot:xlabel='PR', ylabel='Density'>"
      ]
     },
     "execution_count": 54,
     "metadata": {},
     "output_type": "execute_result"
    },
    {
     "data": {
      "image/png": "[encoded data removed]",
      "text/plain": [
       "<Figure size 640x480 with 1 Axes>"
      ]
     },
     "metadata": {},
     "output_type": "display_data"
    }
   ],
   "source": [
    "sns.distplot((hk_df['PR']), bins=20)"
   ]
  },
  {
   "cell_type": "code",
   "execution_count": 60,
   "id": "94bbfdcc",
   "metadata": {},
   "outputs": [
    {
     "data": {
      "text/plain": [
       "1    52509\n",
       "0    17641\n",
       "2     4075\n",
       "Name: PR, dtype: int64"
      ]
     },
     "execution_count": 60,
     "metadata": {},
     "output_type": "execute_result"
    }
   ],
   "source": [
    "hk_df['PR'].value_counts()\n"
   ]
  },
  {
   "cell_type": "code",
   "execution_count": 61,
   "id": "848ec7c8",
   "metadata": {},
   "outputs": [
    {
     "data": {
      "text/plain": [
       "array([[<AxesSubplot:title={'center':'Unnamed: 0'}>,\n",
       "        <AxesSubplot:title={'center':'Ranking'}>],\n",
       "       [<AxesSubplot:title={'center':'Rating'}>,\n",
       "        <AxesSubplot:title={'center':'Number of Reviews'}>],\n",
       "       [<AxesSubplot:title={'center':'PR'}>, <AxesSubplot:>]],\n",
       "      dtype=object)"
      ]
     },
     "execution_count": 61,
     "metadata": {},
     "output_type": "execute_result"
    },
    {
     "data": {
      "image/png": "[encoded data removed]",
      "text/plain": [
       "<Figure size 1100x1200 with 6 Axes>"
      ]
     },
     "metadata": {},
     "output_type": "display_data"
    }
   ],
   "source": [
    "hk_df.hist(figsize=(11,12))"
   ]
  },
  {
   "cell_type": "code",
   "execution_count": 62,
   "id": "c803974c",
   "metadata": {},
   "outputs": [
    {
     "name": "stderr",
     "output_type": "stream",
     "text": [
      "C:\\Users\\aguil\\anaconda3\\lib\\site-packages\\seaborn\\distributions.py:2619: FutureWarning: `distplot` is a deprecated function and will be removed in a future version. Please adapt your code to use either `displot` (a figure-level function with similar flexibility) or `histplot` (an axes-level function for histograms).\n",
      "  warnings.warn(msg, FutureWarning)\n"
     ]
    },
    {
     "data": {
      "text/plain": [
       "<AxesSubplot:xlabel='Ranking', ylabel='Density'>"
      ]
     },
     "execution_count": 62,
     "metadata": {},
     "output_type": "execute_result"
    },
    {
     "data": {
      "image/png": "[encoded data removed]",
      "text/plain": [
       "<Figure size 640x480 with 1 Axes>"
      ]
     },
     "metadata": {},
     "output_type": "display_data"
    }
   ],
   "source": [
    "sns.distplot((hk_df['Ranking']), bins=20)"
   ]
  },
  {
   "cell_type": "code",
   "execution_count": null,
   "id": "e4a0a201",
   "metadata": {},
   "outputs": [],
   "source": []
  }
 ],
 "metadata": {
  "kernelspec": {
   "display_name": "Python 3 (ipykernel)",
   "language": "python",
   "name": "python3"
  },
  "language_info": {
   "codemirror_mode": {
    "name": "ipython",
    "version": 3
   },
   "file_extension": ".py",
   "mimetype": "text/x-python",
   "name": "python",
   "nbconvert_exporter": "python",
   "pygments_lexer": "ipython3",
   "version": "3.9.13"
  }
 },
 "nbformat": 4,
 "nbformat_minor": 5
}
