{
 "cells": [
  {
   "cell_type": "markdown",
   "id": "3e1fae7d",
   "metadata": {},
   "source": [
    "## TOC:\n",
    "\n",
    "*[Purpose of the notebook](#first-bullet)\n",
    "*[Function application](#second-bullet)\n",
    "*[Uploading a foto](#third-bullet)\n",
    "*[Adding a screen shoot](#fourth-bullet)\n",
    "*[Adddding bullet points](#fifth-bullet)\n",
    "*[Adding a note](#sixth-bullet)\n",
    "*[Adding a youtube video](#seventh-bullet)"
   ]
  },
  {
   "cell_type": "markdown",
   "id": "a24b61fb",
   "metadata": {},
   "source": [
    "## Purpose of the notebook <a class=\"anchor\" id=\"first-bullet\"></a>\n",
    "\n"
   ]
  },
  {
   "cell_type": "markdown",
   "id": "ad5e47f8",
   "metadata": {},
   "source": [
    "<span style='color:green'> The purpose of this notebook is to introduce someones´s holidays preference with a pictrure and a link to a youtube video of his holiday preference. </span>\n",
    "\n",
    "\n"
   ]
  },
  {
   "cell_type": "markdown",
   "id": "2f5bc53a",
   "metadata": {},
   "source": [
    "## 2. Function application <a class=\"anchor\" id=\"second-bullet\"></a>"
   ]
  },
  {
   "cell_type": "code",
   "execution_count": 15,
   "id": "cc263c9d",
   "metadata": {},
   "outputs": [
    {
     "name": "stdout",
     "output_type": "stream",
     "text": [
      "Please insert the name of the perosn:Alejandra\n"
     ]
    }
   ],
   "source": [
    "# Write a function that takes an input - which will be the selected person's name\n",
    "\n",
    "user_input = input (\"Please insert the name of the perosn:\")\n"
   ]
  },
  {
   "cell_type": "markdown",
   "id": "dee1dd0a",
   "metadata": {},
   "source": [
    "\n",
    "## 3. Uploading a foto <a class=\"anchor\" id=\"third-bullet\"></a>"
   ]
  },
  {
   "cell_type": "code",
   "execution_count": null,
   "id": "473c1aa1",
   "metadata": {},
   "outputs": [],
   "source": [
    "![Alejandra%20G.jpg](attachment:Alejandra%20G.jpg)"
   ]
  },
  {
   "cell_type": "markdown",
   "id": "dcfb2afe",
   "metadata": {},
   "source": [
    "\n",
    "## 4. Adding a screen shoot <a class=\"anchor\" id=\"first-bullet\"></a>\n"
   ]
  },
  {
   "cell_type": "code",
   "execution_count": null,
   "id": "516027f9",
   "metadata": {},
   "outputs": [],
   "source": [
    "![Salar.jpeg](attachment:Salar.jpeg)"
   ]
  },
  {
   "cell_type": "markdown",
   "id": "b855600f",
   "metadata": {},
   "source": [
    "\n",
    "## 5. Adddding bullet points <a class=\"anchor\" id=\"first-bullet\"></a>"
   ]
  },
  {
   "cell_type": "markdown",
   "id": "bc00c6cc",
   "metadata": {},
   "source": [
    "- She likes that is unique in the world\n",
    "- She likes that the place its quiet\n",
    "- She likes the conctact to the nature  \n",
    "\n",
    " \n"
   ]
  },
  {
   "cell_type": "markdown",
   "id": "c44c487f",
   "metadata": {},
   "source": [
    "\n",
    "## 6. Adding a note <a class=\"anchor\" id=\"first-bullet\"></a>"
   ]
  },
  {
   "cell_type": "code",
   "execution_count": 8,
   "id": "b38f6421",
   "metadata": {},
   "outputs": [],
   "source": [
    "# In this code we use the function input to ask the user to put the name\n",
    "# of the person who is introduced"
   ]
  },
  {
   "cell_type": "markdown",
   "id": "2529deb1",
   "metadata": {},
   "source": [
    "\n",
    "## 7. Adding a youtube video <a class=\"anchor\" id=\"first-bullet\"></a>"
   ]
  },
  {
   "cell_type": "code",
   "execution_count": 16,
   "id": "960511a8",
   "metadata": {},
   "outputs": [
    {
     "data": {
      "text/html": [
       "<iframe width=\"560\" height=\"315\" src=\"https://www.youtube.com/embed/8ldPxs3Ceqw\" title=\"YouTube video player\"</iframe>\n"
      ],
      "text/plain": [
       "<IPython.core.display.HTML object>"
      ]
     },
     "metadata": {},
     "output_type": "display_data"
    }
   ],
   "source": [
    "%%HTML\n",
    "<iframe width=\"560\" height=\"315\" src=\"https://www.youtube.com/embed/8ldPxs3Ceqw\" title=\"YouTube video player\"</iframe>"
   ]
  }
 ],
 "metadata": {
  "kernelspec": {
   "display_name": "Python 3 (ipykernel)",
   "language": "python",
   "name": "python3"
  },
  "language_info": {
   "codemirror_mode": {
    "name": "ipython",
    "version": 3
   },
   "file_extension": ".py",
   "mimetype": "text/x-python",
   "name": "python",
   "nbconvert_exporter": "python",
   "pygments_lexer": "ipython3",
   "version": "3.9.13"
  }
 },
 "nbformat": 4,
 "nbformat_minor": 5
}
