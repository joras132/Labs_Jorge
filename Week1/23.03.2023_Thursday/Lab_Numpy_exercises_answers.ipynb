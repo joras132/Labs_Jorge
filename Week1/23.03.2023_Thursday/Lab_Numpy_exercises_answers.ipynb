{
 "cells": [
  {
   "cell_type": "markdown",
   "id": "9ed61f30",
   "metadata": {},
   "source": [
    "\n",
    "# numpy exercises\n",
    "\n",
    "This is a collection of exercises that have been collected in the numpy mailing list, on stack overflow\n",
    "and in the numpy documentation. The goal of this collection is to offer a quick reference for both old\n",
    "and new users but also to provide a set of exercises for those who teach.\n",
    "\n",
    "\n",
    "If you find an error or think you've a better way to solve some of them, feel\n",
    "free to open an issue at <https://github.com/rougier/numpy-100>.\n",
    "File automatically generated. See the documentation to update questions/answers/hints programmatically."
   ]
  },
  {
   "cell_type": "code",
   "execution_count": null,
   "id": "519ca889",
   "metadata": {},
   "outputs": [],
   "source": [
    "#### 1. Import the numpy package under the name `np` (★☆☆)\n",
    "`hint: import … as`"
   ]
  },
  {
   "cell_type": "code",
   "execution_count": 1,
   "id": "04d0d342",
   "metadata": {},
   "outputs": [],
   "source": [
    "import numpy as np"
   ]
  },
  {
   "cell_type": "code",
   "execution_count": null,
   "id": "d79925a4",
   "metadata": {},
   "outputs": [],
   "source": [
    "#### 2. Create a null vector of size 10 (★☆☆)\n",
    "`hint: np.zeros`"
   ]
  },
  {
   "cell_type": "code",
   "execution_count": 27,
   "id": "5fe2ae38",
   "metadata": {},
   "outputs": [
    {
     "name": "stdout",
     "output_type": "stream",
     "text": [
      "[0. 0. 0. 0. 0. 0. 0. 0. 0. 0.] \n",
      "\n"
     ]
    },
    {
     "data": {
      "text/plain": [
       "10"
      ]
     },
     "execution_count": 27,
     "metadata": {},
     "output_type": "execute_result"
    }
   ],
   "source": [
    "a=np.zeros(10)\n",
    "print(a, \"\\n\")\n",
    "a.size"
   ]
  },
  {
   "cell_type": "code",
   "execution_count": 23,
   "id": "a5f04b64",
   "metadata": {},
   "outputs": [],
   "source": [
    "#### 3. Create a null vector of size 10 but the fifth value which is 1."
   ]
  },
  {
   "cell_type": "code",
   "execution_count": 25,
   "id": "aadea2ce",
   "metadata": {},
   "outputs": [
    {
     "name": "stdout",
     "output_type": "stream",
     "text": [
      "[0. 0. 0. 0. 1. 0. 0. 0. 0. 0.]\n"
     ]
    }
   ],
   "source": [
    "x = np.zeros(10); x[4] = 1\n",
    "print (x)"
   ]
  },
  {
   "cell_type": "code",
   "execution_count": null,
   "id": "888862aa",
   "metadata": {},
   "outputs": [],
   "source": [
    "#### 4. Create a vector with values ranging from 10 to 49 (★☆☆)\n",
    "`hint: arange`"
   ]
  },
  {
   "cell_type": "code",
   "execution_count": 121,
   "id": "c393d3ac",
   "metadata": {},
   "outputs": [
    {
     "data": {
      "text/plain": [
       "array([10, 11, 12, 13, 14, 15, 16, 17, 18, 19, 20, 21, 22, 23, 24, 25, 26,\n",
       "       27, 28, 29, 30, 31, 32, 33, 34, 35, 36, 37, 38, 39, 40, 41, 42, 43,\n",
       "       44, 45, 46, 47, 48, 49])"
      ]
     },
     "execution_count": 121,
     "metadata": {},
     "output_type": "execute_result"
    }
   ],
   "source": [
    "np.arange(10, 50)"
   ]
  },
  {
   "cell_type": "code",
   "execution_count": 43,
   "id": "dde7310f",
   "metadata": {},
   "outputs": [],
   "source": [
    "#### 5. Create a 3x3 matrix with values ranging from 0 to 8 (★☆☆)\n",
    "`hint: reshape`"
   ]
  },
  {
   "cell_type": "code",
   "execution_count": 42,
   "id": "0434d7c2",
   "metadata": {},
   "outputs": [
    {
     "data": {
      "text/plain": [
       "array([[0, 1, 2],\n",
       "       [3, 4, 5],\n",
       "       [6, 7, 8]])"
      ]
     },
     "execution_count": 42,
     "metadata": {},
     "output_type": "execute_result"
    }
   ],
   "source": [
    "grid=np.arange(0, 9).reshape ((3, 3))\n",
    "grid"
   ]
  },
  {
   "cell_type": "code",
   "execution_count": null,
   "id": "3df90bcf",
   "metadata": {},
   "outputs": [],
   "source": [
    "#### 6. Find indices of non-zero elements from [1,2,0,0,4,0] (★☆☆)\n",
    "`hint: np.nonzero`"
   ]
  },
  {
   "cell_type": "code",
   "execution_count": 51,
   "id": "3f0ce87b",
   "metadata": {},
   "outputs": [
    {
     "data": {
      "text/plain": [
       "array([2, 3, 5], dtype=int64)"
      ]
     },
     "execution_count": 51,
     "metadata": {},
     "output_type": "execute_result"
    }
   ],
   "source": [
    "x = np.array([1,2,0,0,4,0])\n",
    "np.where(x == 0)[0]\n"
   ]
  },
  {
   "cell_type": "code",
   "execution_count": null,
   "id": "be699a76",
   "metadata": {},
   "outputs": [],
   "source": [
    "#### 7. Create a 3x3 identity matrix (★☆☆)\n",
    "`hint: np.eye`"
   ]
  },
  {
   "cell_type": "code",
   "execution_count": 52,
   "id": "cd7a3688",
   "metadata": {},
   "outputs": [
    {
     "data": {
      "text/plain": [
       "array([[1., 0., 0.],\n",
       "       [0., 1., 0.],\n",
       "       [0., 0., 1.]])"
      ]
     },
     "execution_count": 52,
     "metadata": {},
     "output_type": "execute_result"
    }
   ],
   "source": [
    "np.eye(3,3)"
   ]
  },
  {
   "cell_type": "code",
   "execution_count": null,
   "id": "9404694d",
   "metadata": {},
   "outputs": [],
   "source": [
    "#### 8. Create a 3x3x3 array with random values (★☆☆)\n",
    "`hint: np.random.random`"
   ]
  },
  {
   "cell_type": "code",
   "execution_count": 64,
   "id": "de29b8b3",
   "metadata": {},
   "outputs": [
    {
     "name": "stdout",
     "output_type": "stream",
     "text": [
      "[[[0.55305219 0.9467336  0.77801585]\n",
      "  [0.78506635 0.05281996 0.70908399]\n",
      "  [0.58662306 0.59265896 0.77882172]]\n",
      "\n",
      " [[0.01341255 0.86822136 0.20084136]\n",
      "  [0.74326219 0.86509048 0.0292994 ]\n",
      "  [0.06923818 0.09678043 0.26257941]]\n",
      "\n",
      " [[0.15039019 0.38491278 0.86638189]\n",
      "  [0.10356717 0.18219067 0.51022115]\n",
      "  [0.47259567 0.29441597 0.24020312]]]\n"
     ]
    }
   ],
   "source": [
    "b = np.random.random((3,3,3))\n",
    "print(b)"
   ]
  },
  {
   "cell_type": "code",
   "execution_count": null,
   "id": "85e305fd",
   "metadata": {},
   "outputs": [],
   "source": [
    "#### 9. Create a 10x10 array with random values and find the minimum and maximum values (★☆☆)\n",
    "`hint: min, max`"
   ]
  },
  {
   "cell_type": "code",
   "execution_count": 72,
   "id": "f66f304f",
   "metadata": {},
   "outputs": [
    {
     "name": "stdout",
     "output_type": "stream",
     "text": [
      "0.0052088744985469\n",
      "0.9988215704561824\n"
     ]
    }
   ],
   "source": [
    "p = np.random.random((10,10))\n",
    "\n",
    "\n",
    "x=p.min()\n",
    "y=p.max()\n",
    "\n",
    "print(x)\n",
    "print(y)\n",
    "\n",
    "np.min(p)\n",
    "np.max(p)"
   ]
  },
  {
   "cell_type": "code",
   "execution_count": null,
   "id": "48af8233",
   "metadata": {},
   "outputs": [],
   "source": [
    "#### 10. Create a random vector of size 30 and find the mean value (★☆☆)\n",
    "`hint: mean`"
   ]
  },
  {
   "cell_type": "code",
   "execution_count": 74,
   "id": "5015ba21",
   "metadata": {},
   "outputs": [
    {
     "data": {
      "text/plain": [
       "0.5073527727138386"
      ]
     },
     "execution_count": 74,
     "metadata": {},
     "output_type": "execute_result"
    }
   ],
   "source": [
    "a = np.random.random((30))\n",
    "a\n",
    "\n",
    "np.mean(a)"
   ]
  },
  {
   "cell_type": "code",
   "execution_count": null,
   "id": "ab2f0d3c",
   "metadata": {},
   "outputs": [],
   "source": [
    "#### 11. Create a 5x5 matrix with values 1,2,3,4 just below the diagonal (★☆☆)\n",
    "`hint: np.diag`\n"
   ]
  },
  {
   "cell_type": "code",
   "execution_count": 95,
   "id": "342c4c96",
   "metadata": {},
   "outputs": [
    {
     "data": {
      "text/plain": [
       "array([[1, 0, 0, 0],\n",
       "       [0, 2, 0, 0],\n",
       "       [0, 0, 3, 0],\n",
       "       [0, 0, 0, 4]])"
      ]
     },
     "execution_count": 95,
     "metadata": {},
     "output_type": "execute_result"
    }
   ],
   "source": [
    "from scipy import sparse\n",
    "\n",
    "y=np.diag([1,2,3,4])                                                                    \n",
    "y"
   ]
  },
  {
   "cell_type": "code",
   "execution_count": null,
   "id": "992d673f",
   "metadata": {},
   "outputs": [],
   "source": [
    "#### 12. Normalize a 5x5 random matrix (★☆☆)\n",
    "`hint: (x -mean)/std`"
   ]
  },
  {
   "cell_type": "code",
   "execution_count": 123,
   "id": "bc3c2f6c",
   "metadata": {},
   "outputs": [
    {
     "data": {
      "text/plain": [
       "array([[0.6150225 , 0.44591283, 0.07593783, 0.68847162, 0.39900232],\n",
       "       [0.52448624, 0.07959594, 0.49577518, 0.6631403 , 0.08160341],\n",
       "       [0.88331587, 0.6124718 , 0.63984401, 0.57370472, 0.94700604],\n",
       "       [0.9439473 , 0.3794944 , 0.32201978, 0.13023661, 0.22502297],\n",
       "       [0.47034452, 0.40306267, 0.77017167, 0.56255331, 0.86616251]])"
      ]
     },
     "execution_count": 123,
     "metadata": {},
     "output_type": "execute_result"
    }
   ],
   "source": [
    "k = np.random.random((5,5))\n",
    "matrix= (k-np.mean(k)/np.std(k))\n",
    "k"
   ]
  },
  {
   "cell_type": "code",
   "execution_count": 100,
   "id": "58f876e4",
   "metadata": {},
   "outputs": [
    {
     "name": "stdout",
     "output_type": "stream",
     "text": [
      "[[0.49387209 0.10073219 0.63613972 0.44020979 0.36797901]\n",
      " [0.44564593 0.85053561 0.46220261 0.48126311 0.74149382]\n",
      " [0.25958873 0.65009452 0.35955875 0.57868698 0.86591196]\n",
      " [0.7345116  0.58196106 0.19342506 0.73567215 0.68903331]\n",
      " [0.7938702  0.60132723 0.29907948 0.07070994 0.46502172]]\n",
      "0.5159410630261012\n",
      "0.21800780949879822\n"
     ]
    },
    {
     "data": {
      "text/plain": [
       "array([[-0.10123019, -1.90455964,  0.55135023, -0.34737872, -0.67870068],\n",
       "       [-0.32244318,  1.53478238, -0.24649782, -0.1590675 ,  1.03460862],\n",
       "       [-1.17588601,  0.61536078, -0.71732438,  0.28781501,  1.60531356],\n",
       "       [ 1.00258123,  0.30283317, -1.47937821,  1.00790466,  0.79397271],\n",
       "       [ 1.27485862,  0.39166563, -0.99474225, -2.04227143, -0.23356661]])"
      ]
     },
     "execution_count": 100,
     "metadata": {},
     "output_type": "execute_result"
    }
   ],
   "source": [
    "f = np.random.random((5,5))\n",
    "mean=np.mean(f)\n",
    "std=np.std(f)\n",
    "print(f)\n",
    "print(mean)\n",
    "print(std)\n",
    "k=(f-mean)/std\n",
    "k"
   ]
  },
  {
   "cell_type": "code",
   "execution_count": 102,
   "id": "457bd741",
   "metadata": {},
   "outputs": [
    {
     "ename": "SyntaxError",
     "evalue": "invalid syntax (3096181724.py, line 2)",
     "output_type": "error",
     "traceback": [
      "\u001b[1;36m  File \u001b[1;32m\"C:\\Users\\aguil\\AppData\\Local\\Temp\\ipykernel_8560\\3096181724.py\"\u001b[1;36m, line \u001b[1;32m2\u001b[0m\n\u001b[1;33m    `hint: np.intersect1d`\u001b[0m\n\u001b[1;37m    ^\u001b[0m\n\u001b[1;31mSyntaxError\u001b[0m\u001b[1;31m:\u001b[0m invalid syntax\n"
     ]
    }
   ],
   "source": [
    "#### 13. How to find common values between two arrays? (★☆☆)\n",
    "`hint: np.intersect1d`"
   ]
  },
  {
   "cell_type": "code",
   "execution_count": 109,
   "id": "b32f48b4",
   "metadata": {},
   "outputs": [
    {
     "data": {
      "text/plain": [
       "array([10, 12, 14, 16, 18])"
      ]
     },
     "execution_count": 109,
     "metadata": {},
     "output_type": "execute_result"
    }
   ],
   "source": [
    "j=np.arange(0, 20, 2)\n",
    "k=np.arange(10, 30, 2)\n",
    "m= np.intersect1d(j,k)\n",
    "m"
   ]
  },
  {
   "cell_type": "code",
   "execution_count": null,
   "id": "7f5def05",
   "metadata": {},
   "outputs": [],
   "source": [
    "#### 14. Create a random vector of size 10 and sort it (★★☆)\n",
    "`hint: sort`"
   ]
  },
  {
   "cell_type": "code",
   "execution_count": 113,
   "id": "765d3692",
   "metadata": {},
   "outputs": [
    {
     "data": {
      "text/plain": [
       "array([0.15800827, 0.18605199, 0.25556057, 0.30924305, 0.38045162,\n",
       "       0.43584273, 0.48246582, 0.49778601, 0.77019159, 0.88004896])"
      ]
     },
     "execution_count": 113,
     "metadata": {},
     "output_type": "execute_result"
    }
   ],
   "source": [
    "A = np.random.random((10))\n",
    "np.sort(A)"
   ]
  },
  {
   "cell_type": "code",
   "execution_count": null,
   "id": "04ee0dd9",
   "metadata": {},
   "outputs": [],
   "source": [
    "#### 15. Create random vector of size 10 and replace the maximum value by 0 (★★☆)\n",
    "`hint: argmax`"
   ]
  },
  {
   "cell_type": "code",
   "execution_count": 118,
   "id": "97b66af1",
   "metadata": {},
   "outputs": [
    {
     "data": {
      "text/plain": [
       "array([0.14598612, 0.47470559, 0.        , 0.11975015, 0.36085359,\n",
       "       0.49199264, 0.50979988, 0.13564375, 0.28734281, 0.66335516])"
      ]
     },
     "execution_count": 118,
     "metadata": {},
     "output_type": "execute_result"
    }
   ],
   "source": [
    "A = np.random.random((10))\n",
    "\n",
    "mx = max(A)\n",
    "for i in range(len(A)):\n",
    "    if A[i] == mx:\n",
    "        A[i] = 0\n",
    "A\n"
   ]
  },
  {
   "cell_type": "code",
   "execution_count": null,
   "id": "eaa896d0",
   "metadata": {},
   "outputs": [],
   "source": [
    "#### 16. Subtract the mean of each row of a matrix (★★☆)\n",
    "`hint: mean(axis=,keepdims=)`"
   ]
  },
  {
   "cell_type": "code",
   "execution_count": 120,
   "id": "d69db032",
   "metadata": {},
   "outputs": [
    {
     "data": {
      "text/plain": [
       "array([[ 0.31878387,  0.05149461],\n",
       "       [ 0.35503849, -0.42752204],\n",
       "       [-0.26510384,  0.26688831],\n",
       "       [-0.08124364,  0.17569823],\n",
       "       [-0.02390455,  0.0167518 ],\n",
       "       [ 0.1870084 , -0.20842618],\n",
       "       [-0.03982434, -0.18084946],\n",
       "       [-0.37013281, -0.11307095],\n",
       "       [ 0.21819471,  0.20085603],\n",
       "       [-0.28412165,  0.20348502]])"
      ]
     },
     "execution_count": 120,
     "metadata": {},
     "output_type": "execute_result"
    }
   ],
   "source": [
    "A = np.random.random((10,2))\n",
    "\n",
    "mean1=np.mean(A)\n",
    "\n",
    "k=(A-mean1)\n",
    "k"
   ]
  },
  {
   "cell_type": "code",
   "execution_count": null,
   "id": "f3b25e58",
   "metadata": {},
   "outputs": [],
   "source": [
    "#### 17. How to get the n largest values of an array (★★★)\n",
    "`Z = np.arange(10000)\n",
    "np.random.shuffle(Z)\n",
    "n = 5\n",
    "hint: np.argsort | np.argpartition`"
   ]
  },
  {
   "cell_type": "code",
   "execution_count": null,
   "id": "479123fe",
   "metadata": {},
   "outputs": [],
   "source": []
  },
  {
   "cell_type": "code",
   "execution_count": null,
   "id": "b3356bd6",
   "metadata": {},
   "outputs": [],
   "source": [
    "#### 18. Create a random 5*3 matrix and replace items that are larger than 4 by their squares ( Example:  6 --> 36) \n",
    "`hint: np.where`"
   ]
  },
  {
   "cell_type": "code",
   "execution_count": null,
   "id": "8c4f1a84",
   "metadata": {},
   "outputs": [],
   "source": []
  }
 ],
 "metadata": {
  "kernelspec": {
   "display_name": "Python 3 (ipykernel)",
   "language": "python",
   "name": "python3"
  },
  "language_info": {
   "codemirror_mode": {
    "name": "ipython",
    "version": 3
   },
   "file_extension": ".py",
   "mimetype": "text/x-python",
   "name": "python",
   "nbconvert_exporter": "python",
   "pygments_lexer": "ipython3",
   "version": "3.9.13"
  }
 },
 "nbformat": 4,
 "nbformat_minor": 5
}
